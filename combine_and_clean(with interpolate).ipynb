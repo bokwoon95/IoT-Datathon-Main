{
 "cells": [
  {
   "cell_type": "code",
   "execution_count": 1,
   "metadata": {},
   "outputs": [],
   "source": [
    "import pandas as pd\n",
    "import numpy as np\n",
    "import matplotlib.pyplot as plt\n",
    "import seaborn as sns\n",
    "import glob\n",
    "%matplotlib inline"
   ]
  },
  {
   "cell_type": "code",
   "execution_count": 2,
   "metadata": {},
   "outputs": [],
   "source": [
    "#importing weather data\n",
    "weather=pd.read_csv(\"./Weather Data.csv\")\n",
    "weather[\"ts\"]=pd.to_datetime(weather[\"ts\"], format=\"%d/%m/%y %H:%M\")\n",
    "weather[\"ts\"]=weather[\"ts\"].dt.strftime(\"%Y-%m-%d %H:%M:%S\")\n",
    "weather=weather.set_index(\"ts\")\n",
    "weather.index=pd.DatetimeIndex(weather.index)\n",
    "#creating a new index\n",
    "all_days = pd.date_range(weather.index.min(), weather.index.max(), freq='H')\n",
    "#weather=weather.reindex(all_days)\n",
    "#imputing missing values in weather data\n",
    "#weather=weather.interpolate(method=\"linear\",axis=0)"
   ]
  },
  {
   "cell_type": "code",
   "execution_count": 3,
   "metadata": {},
   "outputs": [],
   "source": [
    "#importing data files for all the months separately\n",
    "#POWER\n",
    "df_p_c1 = [pd.read_csv(file,index_col=\"ts\") for file in glob.glob('./Raw Data/Chiller1_power/*.csv')]\n",
    "df_p_c2 = [pd.read_csv(file,index_col=\"ts\") for file in glob.glob('./Raw Data/Chiller2_power/*.csv')]\n",
    "df_p_c3 = [pd.read_csv(file,index_col=\"ts\") for file in glob.glob('./Raw Data/Chiller3_power/*.csv')]\n",
    "df_p_c4 = [pd.read_csv(file,index_col=\"ts\") for file in glob.glob('./Raw Data/Chiller4_power/*.csv')]\n",
    "\n",
    "#TEMP\n",
    "df_t_c1 = [pd.read_csv(file,index_col=\"ts\") for file in glob.glob('./Raw Data/Chiller1_temp/*.csv')]\n",
    "df_t_c2 = [pd.read_csv(file,index_col=\"ts\") for file in glob.glob('./Raw Data/Chiller2_temp/*.csv')]\n",
    "df_t_c3 = [pd.read_csv(file,index_col=\"ts\") for file in glob.glob('./Raw Data/Chiller3_temp/*.csv')]\n",
    "df_t_c4 = [pd.read_csv(file,index_col=\"ts\") for file in glob.glob('./Raw Data/Chiller4_temp/*.csv')]\n",
    "\n",
    "#EVAPORATOR\n",
    "df_e_c1 = [pd.read_csv(file,index_col=\"ts\") for file in glob.glob('./Raw Data/Chiller1_evaflow/*.csv')]\n",
    "df_e_c2 = [pd.read_csv(file,index_col=\"ts\") for file in glob.glob('./Raw Data/Chiller2_evaflow/*.csv')]\n",
    "df_e_c3 = [pd.read_csv(file,index_col=\"ts\") for file in glob.glob('./Raw Data/Chiller3_evaflow/*.csv')]\n",
    "df_e_c4 = [pd.read_csv(file,index_col=\"ts\") for file in glob.glob('./Raw Data/Chiller4_evaflow/*.csv')]\n",
    "\n",
    "#CONDENSER\n",
    "df_c_c1 = [pd.read_csv(file,index_col=\"ts\") for file in glob.glob('./Raw Data/Chiller1_conflow/*.csv')]\n",
    "df_c_c2 = [pd.read_csv(file,index_col=\"ts\") for file in glob.glob('./Raw Data/Chiller2_conflow/*.csv')]\n",
    "df_c_c3 = [pd.read_csv(file,index_col=\"ts\") for file in glob.glob('./Raw Data/Chiller3_conflow/*.csv')]\n",
    "df_c_c4 = [pd.read_csv(file,index_col=\"ts\") for file in glob.glob('./Raw Data/Chiller4_conflow/*.csv')]"
   ]
  },
  {
   "cell_type": "code",
   "execution_count": 4,
   "metadata": {},
   "outputs": [],
   "source": [
    "#concatenating the dataframes and subsetting the columns\n",
    "#POWER\n",
    "tab_p_c1=pd.concat(df_p_c1).sort_index()\n",
    "tab_p_c2=pd.concat(df_p_c2).sort_index()\n",
    "tab_p_c3=pd.concat(df_p_c3).sort_index()\n",
    "tab_p_c4=pd.concat(df_p_c4).sort_index()\n",
    "\n",
    "tab_p_c1=tab_p_c1[[\"ch1Watt\",\"ch2Watt\",\"ch3Watt\",\"totalPositiveWattHour\"]]\n",
    "tab_p_c2=tab_p_c2[[\"ch1Watt\",\"ch2Watt\",\"ch3Watt\",\"totalPositiveWattHour\"]]\n",
    "tab_p_c3=tab_p_c3[[\"ch1Watt\",\"ch2Watt\",\"ch3Watt\",\"totalPositiveWattHour\"]]\n",
    "tab_p_c4=tab_p_c4[[\"ch1Watt\",\"ch2Watt\",\"ch3Watt\",\"totalPositiveWattHour\"]]\n",
    "\n",
    "tab_p_c1.columns=[\"C1ch1Watt\",\"C1ch2Watt\",\"C1ch3Watt\",\"C1totalPositiveWattHour\"]\n",
    "tab_p_c2.columns=[\"C2ch1Watt\",\"C2ch2Watt\",\"C2ch3Watt\",\"C2totalPositiveWattHour\"]\n",
    "tab_p_c3.columns=[\"C3ch1Watt\",\"C3ch2Watt\",\"C3ch3Watt\",\"C3totalPositiveWattHour\"]\n",
    "tab_p_c4.columns=[\"C4ch1Watt\",\"C4ch2Watt\",\"C4ch3Watt\",\"C4totalPositiveWattHour\"]\n",
    "\n",
    "#TEMP\n",
    "tab_t_c1=pd.concat(df_t_c1).sort_index()\n",
    "tab_t_c2=pd.concat(df_t_c2).sort_index()\n",
    "tab_t_c3=pd.concat(df_t_c3).sort_index()\n",
    "tab_t_c4=pd.concat(df_t_c4).sort_index()\n",
    "\n",
    "tab_t_c1=tab_t_c1[[\"value1\",\"value2\",\"value3\",\"value4\"]]\n",
    "tab_t_c2=tab_t_c2[[\"value1\",\"value2\",\"value3\",\"value4\"]]\n",
    "tab_t_c3=tab_t_c3[[\"value1\",\"value2\",\"value3\",\"value4\"]]\n",
    "tab_t_c4=tab_t_c4[[\"value1\",\"value2\",\"value3\",\"value4\"]]\n",
    "\n",
    "tab_t_c1.columns=[\"temp1\",\"temp2\",\"temp3\",\"temp4\"]\n",
    "tab_t_c2.columns=[\"temp1\",\"temp2\",\"temp3\",\"temp4\"]\n",
    "tab_t_c3.columns=[\"temp1\",\"temp2\",\"temp3\",\"temp4\"]\n",
    "tab_t_c4.columns=[\"temp1\",\"temp2\",\"temp3\",\"temp4\"]\n",
    "\n",
    "#EVAPORATOR\n",
    "tab_e_c1=pd.concat(df_e_c1).sort_index()\n",
    "tab_e_c2=pd.concat(df_e_c2).sort_index()\n",
    "tab_e_c3=pd.concat(df_e_c3).sort_index()\n",
    "tab_e_c4=pd.concat(df_e_c4).sort_index()\n",
    "\n",
    "tab_e_c1=tab_e_c1[[\"flowRate\",\"flowSpeed\",\"totalFlowRate\"]]\n",
    "tab_e_c2=tab_e_c2[[\"flowRate\",\"flowSpeed\",\"totalFlowRate\"]]\n",
    "tab_e_c3=tab_e_c3[[\"flowRate\",\"flowSpeed\",\"totalFlowRate\"]]\n",
    "tab_e_c4=tab_e_c4[[\"flowRate\",\"flowSpeed\",\"totalFlowRate\"]]\n",
    "\n",
    "tab_e_c1.columns=[\"C1e.flowRate\",\"C1e.flowSpeed\",\"C1e.totalFlowRate\"]\n",
    "tab_e_c2.columns=[\"C2e.flowRate\",\"C2e.flowSpeed\",\"C2e.totalFlowRate\"]\n",
    "tab_e_c3.columns=[\"C3e.flowRate\",\"C3e.flowSpeed\",\"C3e.totalFlowRate\"]\n",
    "tab_e_c4.columns=[\"C4e.flowRate\",\"C4e.flowSpeed\",\"C4e.totalFlowRate\"]\n",
    "\n",
    "#CONDENSER\n",
    "tab_c_c1=pd.concat(df_c_c1).sort_index()\n",
    "tab_c_c2=pd.concat(df_c_c2).sort_index()\n",
    "tab_c_c3=pd.concat(df_c_c3).sort_index()\n",
    "tab_c_c4=pd.concat(df_c_c4).sort_index()\n",
    "\n",
    "tab_c_c1=tab_c_c1[[\"flowRate\",\"flowSpeed\",\"totalFlowRate\"]]\n",
    "tab_c_c2=tab_c_c2[[\"flowRate\",\"flowSpeed\",\"totalFlowRate\"]]\n",
    "tab_c_c3=tab_c_c3[[\"flowRate\",\"flowSpeed\",\"totalFlowRate\"]]\n",
    "tab_c_c4=tab_c_c4[[\"flowRate\",\"flowSpeed\",\"totalFlowRate\"]]\n",
    "\n",
    "tab_c_c1.columns=[\"C1c.flowRate\",\"C1c.flowSpeed\",\"C1c.totalFlowRate\"]\n",
    "tab_c_c2.columns=[\"C2c.flowRate\",\"C2c.flowSpeed\",\"C2c.totalFlowRate\"]\n",
    "tab_c_c3.columns=[\"C3c.flowRate\",\"C3c.flowSpeed\",\"C3c.totalFlowRate\"]\n",
    "tab_c_c4.columns=[\"C4c.flowRate\",\"C4c.flowSpeed\",\"C4c.totalFlowRate\"]"
   ]
  },
  {
   "cell_type": "markdown",
   "metadata": {},
   "source": [
    "## Drop outliers"
   ]
  },
  {
   "cell_type": "code",
   "execution_count": 5,
   "metadata": {},
   "outputs": [],
   "source": [
    "#TEMP\n",
    "#keep rows with temp value less than 60 and not 0\n",
    "\n",
    "tab_t_c1 = tab_t_c1[(tab_t_c1.temp1!=0) & (tab_t_c1.temp2!=0) & (tab_t_c1.temp3!=0) & (tab_t_c1.temp4!=0)]\n",
    "tab_t_c1 = tab_t_c1[(tab_t_c1.temp1<60) & (tab_t_c1.temp2<60) & (tab_t_c1.temp3<60) & (tab_t_c1.temp4<60)]\n",
    "\n",
    "tab_t_c2 = tab_t_c2[(tab_t_c2.temp1!=0) & (tab_t_c2.temp2!=0) & (tab_t_c2.temp3!=0) & (tab_t_c2.temp4!=0)]\n",
    "tab_t_c2 = tab_t_c2[(tab_t_c2.temp1<60) & (tab_t_c2.temp2<60) & (tab_t_c2.temp3<60) & (tab_t_c2.temp4<60)]\n",
    "\n",
    "tab_t_c3 = tab_t_c3[(tab_t_c3.temp1!=0) & (tab_t_c3.temp2!=0) & (tab_t_c3.temp3!=0) & (tab_t_c3.temp4!=0)]\n",
    "tab_t_c3 = tab_t_c3[(tab_t_c3.temp1<60) & (tab_t_c3.temp2<60) & (tab_t_c3.temp3<60) & (tab_t_c3.temp4<60)]\n",
    "\n",
    "tab_t_c4 = tab_t_c4[(tab_t_c4.temp1!=0) & (tab_t_c4.temp2!=0) & (tab_t_c4.temp3!=0) & (tab_t_c4.temp4!=0)]\n",
    "tab_t_c4 = tab_t_c4[(tab_t_c4.temp1<60) & (tab_t_c4.temp2<60) & (tab_t_c4.temp3<60) & (tab_t_c4.temp4<60)]"
   ]
  },
  {
   "cell_type": "code",
   "execution_count": 6,
   "metadata": {},
   "outputs": [],
   "source": [
    "#EVAPORATOR\n",
    "#chiller 1 accumulated flow rate should be higher than start point\n",
    "tab_e_c1 = tab_e_c1[tab_e_c1['C1e.totalFlowRate']>=tab_e_c1['C1e.totalFlowRate'].iloc[0]]\n",
    "\n",
    "#chiller 2 one outlier\n",
    "tab_e_c2 = tab_e_c2[tab_e_c2['C2e.totalFlowRate']<1000000]\n",
    "\n",
    "#chiller 3 has 4 times accumulated flow rate overshoots max meter range\n",
    "tab_e_c3.loc[tab_e_c3.index>='2017-06-28 15:23:07.843','C3e.totalFlowRate']+=100000000\n",
    "tab_e_c3.loc[tab_e_c3.index>='2017-08-15 06:43:34.668','C3e.totalFlowRate']+=100000000\n",
    "tab_e_c3.loc[tab_e_c3.index>='2017-09-23 22:22:19.768','C3e.totalFlowRate']+=100000000\n",
    "tab_e_c3.loc[tab_e_c3.index>='2017-11-23 05:48:00.432','C3e.totalFlowRate']+=100000000\n",
    "\n",
    "#chiller 4 is normal\n",
    "#However, chiller 4 eva flow Oct data is duplicate of Nov, need wait for Rubio to update."
   ]
  },
  {
   "cell_type": "code",
   "execution_count": 7,
   "metadata": {},
   "outputs": [],
   "source": [
    "#CONDENSER\n",
    "#chiller 1 and 4 have outliers, 2 and 3 are normal\n",
    "tab_c_c1=tab_c_c1[(tab_c_c1['C1c.totalFlowRate']>0) & (tab_c_c1['C1c.totalFlowRate']>10000)]\n",
    "tab_c_c4=tab_c_c4[tab_c_c4['C4c.totalFlowRate']>0]"
   ]
  },
  {
   "cell_type": "code",
   "execution_count": 8,
   "metadata": {},
   "outputs": [],
   "source": [
    "#creating a list for dataframes\n",
    "tables=[tab_p_c1,tab_t_c1,tab_e_c1,tab_c_c1,tab_p_c2,tab_t_c2,tab_e_c2,tab_c_c2,\n",
    "        tab_p_c3,tab_t_c3,tab_e_c3,tab_c_c3,tab_p_c4,tab_t_c4,tab_e_c4,tab_c_c4]"
   ]
  },
  {
   "cell_type": "code",
   "execution_count": 9,
   "metadata": {},
   "outputs": [],
   "source": [
    "#changing the index to datetimeindex\n",
    "for i in tables:\n",
    "    i.index=pd.DatetimeIndex(i.index)\n",
    "    i.index=i.index.map(lambda x:x.replace(second=0,microsecond=0))"
   ]
  },
  {
   "cell_type": "code",
   "execution_count": 10,
   "metadata": {},
   "outputs": [],
   "source": [
    "#removing duplicates\n",
    "tab_p_c1=tab_p_c1.reset_index().drop_duplicates(subset=\"ts\",keep=\"first\").set_index(\"ts\")\n",
    "tab_t_c1=tab_t_c1.reset_index().drop_duplicates(subset=\"ts\",keep=\"first\").set_index(\"ts\")\n",
    "tab_e_c1=tab_e_c1.reset_index().drop_duplicates(subset=\"ts\",keep=\"first\").set_index(\"ts\")\n",
    "tab_c_c1=tab_c_c1.reset_index().drop_duplicates(subset=\"ts\",keep=\"first\").set_index(\"ts\")\n",
    "\n",
    "tab_p_c2=tab_p_c2.reset_index().drop_duplicates(subset=\"ts\",keep=\"first\").set_index(\"ts\")\n",
    "tab_t_c2=tab_t_c2.reset_index().drop_duplicates(subset=\"ts\",keep=\"first\").set_index(\"ts\")\n",
    "tab_e_c2=tab_e_c2.reset_index().drop_duplicates(subset=\"ts\",keep=\"first\").set_index(\"ts\")\n",
    "tab_c_c2=tab_c_c2.reset_index().drop_duplicates(subset=\"ts\",keep=\"first\").set_index(\"ts\")\n",
    "\n",
    "tab_p_c3=tab_p_c3.reset_index().drop_duplicates(subset=\"ts\",keep=\"first\").set_index(\"ts\")\n",
    "tab_t_c3=tab_t_c3.reset_index().drop_duplicates(subset=\"ts\",keep=\"first\").set_index(\"ts\")\n",
    "tab_e_c3=tab_e_c3.reset_index().drop_duplicates(subset=\"ts\",keep=\"first\").set_index(\"ts\")\n",
    "tab_c_c3=tab_c_c3.reset_index().drop_duplicates(subset=\"ts\",keep=\"first\").set_index(\"ts\")\n",
    "\n",
    "tab_p_c4=tab_p_c4.reset_index().drop_duplicates(subset=\"ts\",keep=\"first\").set_index(\"ts\")\n",
    "tab_t_c4=tab_t_c4.reset_index().drop_duplicates(subset=\"ts\",keep=\"first\").set_index(\"ts\")\n",
    "tab_e_c4=tab_e_c4.reset_index().drop_duplicates(subset=\"ts\",keep=\"first\").set_index(\"ts\")\n",
    "tab_c_c4=tab_c_c4.reset_index().drop_duplicates(subset=\"ts\",keep=\"first\").set_index(\"ts\")"
   ]
  },
  {
   "cell_type": "markdown",
   "metadata": {},
   "source": [
    "### DOWNSAMPLE DATA TO HOURLY"
   ]
  },
  {
   "cell_type": "code",
   "execution_count": 11,
   "metadata": {},
   "outputs": [],
   "source": [
    "tab_p_c1=tab_p_c1.resample(\"H\").mean().reindex(all_days).interpolate()\n",
    "tab_t_c1=tab_t_c1.resample(\"H\").mean().reindex(all_days).interpolate()\n",
    "tab_e_c1=tab_e_c1.resample(\"H\").mean().reindex(all_days).interpolate()\n",
    "tab_c_c1=tab_c_c1.resample(\"H\").mean().reindex(all_days).interpolate()\n",
    "\n",
    "tab_p_c2=tab_p_c2.resample(\"H\").mean().reindex(all_days).interpolate()\n",
    "tab_t_c2=tab_t_c2.resample(\"H\").mean().reindex(all_days).interpolate()\n",
    "tab_e_c2=tab_e_c2.resample(\"H\").mean().reindex(all_days).interpolate()\n",
    "tab_c_c2=tab_c_c2.resample(\"H\").mean().reindex(all_days).interpolate()\n",
    "\n",
    "tab_p_c3=tab_p_c3.resample(\"H\").mean().reindex(all_days).interpolate()\n",
    "tab_t_c3=tab_t_c3.resample(\"H\").mean().reindex(all_days).interpolate()\n",
    "tab_e_c3=tab_e_c3.resample(\"H\").mean().reindex(all_days).interpolate()\n",
    "tab_c_c3=tab_c_c3.resample(\"H\").mean().reindex(all_days).interpolate()\n",
    "\n",
    "tab_p_c4=tab_p_c4.resample(\"H\").mean().reindex(all_days).interpolate()\n",
    "tab_t_c4=tab_t_c4.resample(\"H\").mean().reindex(all_days).interpolate()\n",
    "tab_e_c4=tab_e_c4.resample(\"H\").mean().reindex(all_days).interpolate()\n",
    "tab_c_c4=tab_c_c4.resample(\"H\").mean().reindex(all_days).interpolate()"
   ]
  },
  {
   "cell_type": "markdown",
   "metadata": {},
   "source": [
    "## Add in parameters"
   ]
  },
  {
   "cell_type": "code",
   "execution_count": 12,
   "metadata": {},
   "outputs": [],
   "source": [
    "#Calculate hourly power from accumulated power\n",
    "tab_p_c1['C1PositiveWattHour']=tab_p_c1['C1totalPositiveWattHour'].diff().shift(-1)\n",
    "tab_p_c2['C2PositiveWattHour']=tab_p_c2['C2totalPositiveWattHour'].diff().shift(-1)\n",
    "tab_p_c3['C3PositiveWattHour']=tab_p_c3['C3totalPositiveWattHour'].diff().shift(-1)\n",
    "tab_p_c4['C4PositiveWattHour']=tab_p_c4['C4totalPositiveWattHour'].diff().shift(-1)\n",
    "\n",
    "#Calculate temperature difference\n",
    "tab_t_c1['C1t2-t1'] = tab_t_c1['temp2']-tab_t_c1['temp1']\n",
    "tab_t_c2['C2t2-t1'] = tab_t_c2['temp2']-tab_t_c2['temp1']\n",
    "tab_t_c3['C3t2-t1'] = tab_t_c3['temp2']-tab_t_c3['temp1']\n",
    "tab_t_c4['C4t2-t1'] = tab_t_c4['temp2']-tab_t_c4['temp1']\n",
    "\n",
    "tab_t_c1['C1t3-t4'] = tab_t_c1['temp3']-tab_t_c1['temp4']\n",
    "tab_t_c2['C2t3-t4'] = tab_t_c2['temp3']-tab_t_c2['temp4']\n",
    "tab_t_c3['C3t3-t4'] = tab_t_c3['temp3']-tab_t_c3['temp4']\n",
    "tab_t_c4['C4t3-t4'] = tab_t_c4['temp3']-tab_t_c4['temp4']\n",
    "\n",
    "#Calculate cooling capacity\n",
    "cc_c1=pd.DataFrame()\n",
    "cc_c2=pd.DataFrame()\n",
    "cc_c3=pd.DataFrame()\n",
    "cc_c4=pd.DataFrame()\n",
    "cc_c1['C1Coolingcap']=999.68844162593*tab_e_c1['C1e.flowRate']*0.001/60*4.19*tab_t_c1['C1t2-t1']\n",
    "cc_c2['C2Coolingcap']=999.68844162593*tab_e_c2['C2e.flowRate']*0.001/60*4.19*tab_t_c2['C2t2-t1']\n",
    "cc_c3['C3Coolingcap']=999.68844162593*tab_e_c3['C3e.flowRate']*0.001/60*4.19*tab_t_c3['C3t2-t1']\n",
    "cc_c4['C4Coolingcap']=999.68844162593*tab_e_c4['C4e.flowRate']*0.001/60*4.19*tab_t_c4['C4t2-t1']\n",
    "\n",
    "#Determining if Chiller is on/off\n",
    "cc_c1['C1 O/F'] = tab_p_c1['C1PositiveWattHour'] > 0\n",
    "cc_c2['C2 O/F'] = tab_p_c2['C2PositiveWattHour'] > 0\n",
    "cc_c3['C3 O/F'] = tab_p_c3['C3PositiveWattHour'] > 0\n",
    "cc_c4['C4 O/F'] = tab_p_c4['C4PositiveWattHour'] > 0"
   ]
  },
  {
   "cell_type": "markdown",
   "metadata": {},
   "source": [
    "### Merging all the dataframes"
   ]
  },
  {
   "cell_type": "code",
   "execution_count": 13,
   "metadata": {},
   "outputs": [],
   "source": [
    "#merging the dataframes\n",
    "c1_final=tab_p_c1.merge(tab_t_c1,left_index=True, right_index=True).merge(tab_e_c1,left_index=True, right_index=True).merge(tab_c_c1,left_index=True, right_index=True).merge(cc_c1,left_index=True, right_index=True)\n",
    "\n",
    "c2_final=tab_p_c2.merge(tab_t_c2,left_index=True, right_index=True).merge(tab_e_c2,left_index=True, right_index=True).merge(tab_c_c2,left_index=True, right_index=True).merge(cc_c2,left_index=True, right_index=True)\n",
    "\n",
    "c3_final=tab_p_c3.merge(tab_t_c3,left_index=True, right_index=True).merge(tab_e_c3,left_index=True, right_index=True).merge(tab_c_c3,left_index=True, right_index=True).merge(cc_c3,left_index=True, right_index=True)\n",
    "\n",
    "c4_final=tab_p_c4.merge(tab_t_c4,left_index=True, right_index=True).merge(tab_e_c4,left_index=True, right_index=True).merge(tab_c_c4,left_index=True, right_index=True).merge(cc_c4,left_index=True, right_index=True)"
   ]
  },
  {
   "cell_type": "code",
   "execution_count": 14,
   "metadata": {},
   "outputs": [],
   "source": [
    "#merging with weather\n",
    "c1=c1_final.merge(weather,left_index=True,right_index=True)\n",
    "c2=c2_final.merge(weather,left_index=True,right_index=True)\n",
    "c3=c3_final.merge(weather,left_index=True,right_index=True)\n",
    "c4=c4_final.merge(weather,left_index=True,right_index=True)"
   ]
  },
  {
   "cell_type": "markdown",
   "metadata": {},
   "source": [
    "## Imputing Missing Values"
   ]
  },
  {
   "cell_type": "code",
   "execution_count": 15,
   "metadata": {},
   "outputs": [],
   "source": [
    "c1=c1.fillna(0)\n",
    "c2=c2.fillna(0)\n",
    "c3=c3.fillna(0)\n",
    "c4=c4.fillna(0)\n",
    "\n",
    "c1.index.name='ts'\n",
    "c2.index.name='ts'\n",
    "c3.index.name='ts'\n",
    "c4.index.name='ts'"
   ]
  },
  {
   "cell_type": "code",
   "execution_count": 16,
   "metadata": {},
   "outputs": [],
   "source": [
    "final=c1_final.merge(c2_final,left_index=True, right_index=True).merge(c3_final,left_index=True, right_index=True).merge(c4_final,left_index=True, right_index=True)"
   ]
  },
  {
   "cell_type": "code",
   "execution_count": 17,
   "metadata": {},
   "outputs": [],
   "source": [
    "final.to_csv('./Total Data.csv')"
   ]
  },
  {
   "cell_type": "markdown",
   "metadata": {},
   "source": [
    "## Evaluation"
   ]
  },
  {
   "cell_type": "raw",
   "metadata": {},
   "source": [
    "print('From chiller 1 to 4, the number of rows whereby there is no \\nevaporator flow but there are still power consumption are as follow')\n",
    "print(c1[(c1.PositiveWattHour!=0)&(c1[\"e.flowRate\"]==0)].count().iloc[0])\n",
    "print(c2[(c2.PositiveWattHour!=0)&(c2[\"e.flowRate\"]==0)].count().iloc[0])\n",
    "print(c3[(c3.PositiveWattHour!=0)&(c3[\"e.flowRate\"]==0)].count().iloc[0])\n",
    "print(c4[(c4.PositiveWattHour!=0)&(c4[\"e.flowRate\"]==0)].count().iloc[0])"
   ]
  }
 ],
 "metadata": {
  "kernelspec": {
   "display_name": "Python 3",
   "language": "python",
   "name": "python3"
  },
  "language_info": {
   "codemirror_mode": {
    "name": "ipython",
    "version": 3
   },
   "file_extension": ".py",
   "mimetype": "text/x-python",
   "name": "python",
   "nbconvert_exporter": "python",
   "pygments_lexer": "ipython3",
   "version": "3.6.4"
  }
 },
 "nbformat": 4,
 "nbformat_minor": 2
}
