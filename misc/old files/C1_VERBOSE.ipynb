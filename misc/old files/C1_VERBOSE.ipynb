{
 "cells": [
  {
   "cell_type": "code",
   "execution_count": 10,
   "metadata": {
    "collapsed": true
   },
   "outputs": [],
   "source": [
    "import pandas as pd\n",
    "import numpy as np\n",
    "import matplotlib.pyplot as plt\n",
    "import seaborn as sns\n",
    "import glob\n",
    "from functools import reduce"
   ]
  },
  {
   "cell_type": "code",
   "execution_count": 224,
   "metadata": {
    "collapsed": true
   },
   "outputs": [],
   "source": [
    "#importing data files for all the months separately\n",
    "#POWER\n",
    "path=r\"./Raw Data/\"\n",
    "df_p=[pd.read_csv(file,index_col=\"ts\") for file in glob.glob(path+ \"/*.csv\")]\n",
    "#TEMP\n",
    "path=r\"/Users/chandu/Desktop/IOT DATATHON/Chiller_one/T\"\n",
    "df_t=[pd.read_csv(file,index_col=\"ts\") for file in glob.glob(path+ \"/*.csv\")]\n",
    "#EVAPORATOR\n",
    "path=r\"/Users/chandu/Desktop/IOT DATATHON/Chiller_one/E\"\n",
    "df_e=[pd.read_csv(file,index_col=\"ts\") for file in glob.glob(path+ \"/*.csv\")]\n",
    "#CONDENSER\n",
    "path=r\"/Users/chandu/Desktop/IOT DATATHON/Chiller_one/C\"\n",
    "df_c=[pd.read_csv(file,index_col=\"ts\") for file in glob.glob(path+ \"/*.csv\")]\n"
   ]
  },
  {
   "cell_type": "code",
   "execution_count": 227,
   "metadata": {
    "collapsed": true
   },
   "outputs": [],
   "source": [
    "#concatenating the dataframes and subsetting the columns\n",
    "tab_p=pd.concat(df_p).sort_index()\n",
    "tab_p=tab_p[[\"ch1Watt\",\"ch2Watt\",\"ch3Watt\",\"totalPositiveWattHour\"]]\n",
    "\n",
    "tab_t=pd.concat(df_t).sort_index()\n",
    "tab_t=tab_t[[\"value1\",\"value2\",\"value3\",\"value4\"]]\n",
    "tab_t.columns=[\"temp1\",\"temp2\",\"temp3\",\"temp4\"]\n",
    "\n",
    "tab_e=pd.concat(df_e).sort_index()\n",
    "tab_e=tab_e[[\"flowRate\",\"flowSpeed\",\"totalFlowRate\"]]\n",
    "tab_e.columns=[\"e.flowRate\",\"e.flowSpeed\",\"e.totalFlowRate\"]\n",
    "\n",
    "tab_c=pd.concat(df_c).sort_index()\n",
    "tab_c=tab_c[[\"flowRate\",\"flowSpeed\",\"totalFlowRate\"]]\n",
    "tab_c.columns=[\"c.flowRate\",\"c.flowSpeed\",\"c.totalFlowRate\"]\n"
   ]
  },
  {
   "cell_type": "code",
   "execution_count": 228,
   "metadata": {
    "collapsed": true
   },
   "outputs": [],
   "source": [
    "#creating a list for dataframes\n",
    "tables=[tab_p,tab_t,tab_e,tab_c]"
   ]
  },
  {
   "cell_type": "code",
   "execution_count": 229,
   "metadata": {},
   "outputs": [],
   "source": [
    "#changing the index to datetimeindex\n",
    "for i in tables:\n",
    "    i.index=pd.DatetimeIndex(i.index)\n",
    "    i.index=i.index.map(lambda x:x.replace(second=0,microsecond=0))"
   ]
  },
  {
   "cell_type": "code",
   "execution_count": 230,
   "metadata": {},
   "outputs": [
    {
     "name": "stdout",
     "output_type": "stream",
     "text": [
      "(295954, 4) (301943, 4) (293430, 3) (293416, 3)\n"
     ]
    }
   ],
   "source": [
    "print(tab_p.shape,tab_t.shape,tab_e.shape,tab_c.shape)"
   ]
  },
  {
   "cell_type": "code",
   "execution_count": 231,
   "metadata": {
    "collapsed": true
   },
   "outputs": [],
   "source": [
    "#removing duplicates\n",
    "tab_p=tab_p.reset_index().drop_duplicates(subset=\"ts\",keep=\"first\").set_index(\"ts\")\n",
    "tab_t=tab_t.reset_index().drop_duplicates(subset=\"ts\",keep=\"first\").set_index(\"ts\")\n",
    "tab_e=tab_e.reset_index().drop_duplicates(subset=\"ts\",keep=\"first\").set_index(\"ts\")\n",
    "tab_c=tab_c.reset_index().drop_duplicates(subset=\"ts\",keep=\"first\").set_index(\"ts\")"
   ]
  },
  {
   "cell_type": "code",
   "execution_count": 232,
   "metadata": {
    "collapsed": true
   },
   "outputs": [],
   "source": [
    "#creating a new index\n",
    "all_days = pd.date_range(tab_t.index.min(), tab_t.index.max(), freq='T')"
   ]
  },
  {
   "cell_type": "code",
   "execution_count": 233,
   "metadata": {
    "collapsed": true
   },
   "outputs": [],
   "source": [
    "#reindexing with missing time indices\n",
    "tab_p=tab_p.reindex(all_days)\n",
    "tab_t=tab_t.reindex(all_days)\n",
    "tab_e=tab_e.reindex(all_days)\n",
    "tab_c=tab_c.reindex(all_days)"
   ]
  },
  {
   "cell_type": "code",
   "execution_count": 234,
   "metadata": {
    "collapsed": true
   },
   "outputs": [],
   "source": [
    "#merging the dataframes\n",
    "c1_final=tab_p.merge(tab_t,left_index=True, right_index=True).merge(tab_e,left_index=True, right_index=True).merge(tab_c,left_index=True, right_index=True)"
   ]
  },
  {
   "cell_type": "code",
   "execution_count": 238,
   "metadata": {},
   "outputs": [
    {
     "data": {
      "text/html": [
       "<div>\n",
       "<style>\n",
       "    .dataframe thead tr:only-child th {\n",
       "        text-align: right;\n",
       "    }\n",
       "\n",
       "    .dataframe thead th {\n",
       "        text-align: left;\n",
       "    }\n",
       "\n",
       "    .dataframe tbody tr th {\n",
       "        vertical-align: top;\n",
       "    }\n",
       "</style>\n",
       "<table border=\"1\" class=\"dataframe\">\n",
       "  <thead>\n",
       "    <tr style=\"text-align: right;\">\n",
       "      <th></th>\n",
       "      <th>ch1Watt</th>\n",
       "      <th>ch2Watt</th>\n",
       "      <th>ch3Watt</th>\n",
       "      <th>totalPositiveWattHour</th>\n",
       "      <th>temp1</th>\n",
       "      <th>temp2</th>\n",
       "      <th>temp3</th>\n",
       "      <th>temp4</th>\n",
       "      <th>e.flowRate</th>\n",
       "      <th>e.flowSpeed</th>\n",
       "      <th>e.totalFlowRate</th>\n",
       "      <th>c.flowRate</th>\n",
       "      <th>c.flowSpeed</th>\n",
       "      <th>c.totalFlowRate</th>\n",
       "    </tr>\n",
       "  </thead>\n",
       "  <tbody>\n",
       "    <tr>\n",
       "      <th>2017-05-01 00:00:00</th>\n",
       "      <td>349.0</td>\n",
       "      <td>0.0</td>\n",
       "      <td>353.0</td>\n",
       "      <td>27545200.0</td>\n",
       "      <td>18.068238</td>\n",
       "      <td>20.535583</td>\n",
       "      <td>23.376769</td>\n",
       "      <td>23.387453</td>\n",
       "      <td>0.000000</td>\n",
       "      <td>0.00000</td>\n",
       "      <td>124807.0</td>\n",
       "      <td>0.000000</td>\n",
       "      <td>0.000000</td>\n",
       "      <td>190527.0</td>\n",
       "    </tr>\n",
       "    <tr>\n",
       "      <th>2017-05-01 00:01:00</th>\n",
       "      <td>383.0</td>\n",
       "      <td>0.0</td>\n",
       "      <td>396.0</td>\n",
       "      <td>27545200.0</td>\n",
       "      <td>16.166991</td>\n",
       "      <td>16.914672</td>\n",
       "      <td>22.565002</td>\n",
       "      <td>22.639772</td>\n",
       "      <td>0.000000</td>\n",
       "      <td>0.00000</td>\n",
       "      <td>124807.0</td>\n",
       "      <td>35.284023</td>\n",
       "      <td>0.303604</td>\n",
       "      <td>190527.0</td>\n",
       "    </tr>\n",
       "    <tr>\n",
       "      <th>2017-05-01 00:02:00</th>\n",
       "      <td>379.0</td>\n",
       "      <td>0.0</td>\n",
       "      <td>394.0</td>\n",
       "      <td>27545200.0</td>\n",
       "      <td>15.964052</td>\n",
       "      <td>16.722413</td>\n",
       "      <td>22.372743</td>\n",
       "      <td>22.351379</td>\n",
       "      <td>0.000000</td>\n",
       "      <td>0.00000</td>\n",
       "      <td>124807.0</td>\n",
       "      <td>144.330154</td>\n",
       "      <td>1.241898</td>\n",
       "      <td>190529.0</td>\n",
       "    </tr>\n",
       "    <tr>\n",
       "      <th>2017-05-01 00:03:00</th>\n",
       "      <td>389.0</td>\n",
       "      <td>0.0</td>\n",
       "      <td>408.0</td>\n",
       "      <td>27545200.0</td>\n",
       "      <td>17.053528</td>\n",
       "      <td>17.822570</td>\n",
       "      <td>22.265932</td>\n",
       "      <td>22.372743</td>\n",
       "      <td>10.812524</td>\n",
       "      <td>0.16108</td>\n",
       "      <td>124807.0</td>\n",
       "      <td>195.770782</td>\n",
       "      <td>1.684522</td>\n",
       "      <td>190532.0</td>\n",
       "    </tr>\n",
       "    <tr>\n",
       "      <th>2017-05-01 00:04:00</th>\n",
       "      <td>5748.0</td>\n",
       "      <td>4480.0</td>\n",
       "      <td>4942.0</td>\n",
       "      <td>27545300.0</td>\n",
       "      <td>18.559570</td>\n",
       "      <td>19.531554</td>\n",
       "      <td>22.415465</td>\n",
       "      <td>22.490235</td>\n",
       "      <td>77.101921</td>\n",
       "      <td>1.14863</td>\n",
       "      <td>124808.0</td>\n",
       "      <td>214.631348</td>\n",
       "      <td>1.846809</td>\n",
       "      <td>190535.0</td>\n",
       "    </tr>\n",
       "  </tbody>\n",
       "</table>\n",
       "</div>"
      ],
      "text/plain": [
       "                     ch1Watt  ch2Watt  ch3Watt  totalPositiveWattHour  \\\n",
       "2017-05-01 00:00:00    349.0      0.0    353.0             27545200.0   \n",
       "2017-05-01 00:01:00    383.0      0.0    396.0             27545200.0   \n",
       "2017-05-01 00:02:00    379.0      0.0    394.0             27545200.0   \n",
       "2017-05-01 00:03:00    389.0      0.0    408.0             27545200.0   \n",
       "2017-05-01 00:04:00   5748.0   4480.0   4942.0             27545300.0   \n",
       "\n",
       "                         temp1      temp2      temp3      temp4  e.flowRate  \\\n",
       "2017-05-01 00:00:00  18.068238  20.535583  23.376769  23.387453    0.000000   \n",
       "2017-05-01 00:01:00  16.166991  16.914672  22.565002  22.639772    0.000000   \n",
       "2017-05-01 00:02:00  15.964052  16.722413  22.372743  22.351379    0.000000   \n",
       "2017-05-01 00:03:00  17.053528  17.822570  22.265932  22.372743   10.812524   \n",
       "2017-05-01 00:04:00  18.559570  19.531554  22.415465  22.490235   77.101921   \n",
       "\n",
       "                     e.flowSpeed  e.totalFlowRate  c.flowRate  c.flowSpeed  \\\n",
       "2017-05-01 00:00:00      0.00000         124807.0    0.000000     0.000000   \n",
       "2017-05-01 00:01:00      0.00000         124807.0   35.284023     0.303604   \n",
       "2017-05-01 00:02:00      0.00000         124807.0  144.330154     1.241898   \n",
       "2017-05-01 00:03:00      0.16108         124807.0  195.770782     1.684522   \n",
       "2017-05-01 00:04:00      1.14863         124808.0  214.631348     1.846809   \n",
       "\n",
       "                     c.totalFlowRate  \n",
       "2017-05-01 00:00:00         190527.0  \n",
       "2017-05-01 00:01:00         190527.0  \n",
       "2017-05-01 00:02:00         190529.0  \n",
       "2017-05-01 00:03:00         190532.0  \n",
       "2017-05-01 00:04:00         190535.0  "
      ]
     },
     "execution_count": 238,
     "metadata": {},
     "output_type": "execute_result"
    }
   ],
   "source": [
    "c1_final.head()"
   ]
  },
  {
   "cell_type": "code",
   "execution_count": null,
   "metadata": {
    "collapsed": true
   },
   "outputs": [],
   "source": []
  }
 ],
 "metadata": {
  "kernelspec": {
   "display_name": "Python 3",
   "language": "python",
   "name": "python3"
  },
  "language_info": {
   "codemirror_mode": {
    "name": "ipython",
    "version": 3
   },
   "file_extension": ".py",
   "mimetype": "text/x-python",
   "name": "python",
   "nbconvert_exporter": "python",
   "pygments_lexer": "ipython3",
   "version": "3.6.4"
  }
 },
 "nbformat": 4,
 "nbformat_minor": 2
}
